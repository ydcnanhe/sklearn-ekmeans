{
 "cells": [
  {
   "cell_type": "markdown",
   "metadata": {},
   "source": [
    "\n# Imbalanced clustering comparison with EKMeans\n\nThis example compares clustering performance on an imbalanced dataset\nfor several algorithms, including EKMeans and MiniBatchEKMeans.\n\nIt is intended for the gallery and requires matplotlib to render plots.\n"
   ]
  },
  {
   "cell_type": "code",
   "execution_count": null,
   "metadata": {
    "collapsed": false
   },
   "outputs": [],
   "source": [
    "import matplotlib.pyplot as plt\n",
    "import numpy as np\n",
    "from sklearn.cluster import (\n",
    "\tDBSCAN,\n",
    "\tAgglomerativeClustering,\n",
    "\tKMeans,\n",
    "\tMiniBatchKMeans,\n",
    "\tSpectralClustering,\n",
    ")\n",
    "from sklearn.datasets import make_blobs\n",
    "\n",
    "from sklekmeans import EKMeans, MiniBatchEKMeans\n",
    "\n",
    "\n",
    "def _make_imbalanced(n_samples=800, weights=(0.85, 0.10, 0.05), centers=3, cluster_std=(1.0, 1.0, 1.0), random_state=0):\n",
    "\tX, y = make_blobs(\n",
    "\t\tn_samples=n_samples,\n",
    "\t\tcenters=centers,\n",
    "\t\tcluster_std=cluster_std,\n",
    "\t\trandom_state=random_state,\n",
    "\t)\n",
    "\t# Reweight labels to match desired imbalance by subsampling\n",
    "\trng = np.random.RandomState(random_state)\n",
    "\tout_X, out_y = [], []\n",
    "\tfor k in range(centers):\n",
    "\t\tidx = np.flatnonzero(y == k)\n",
    "\t\ttake = int(round(weights[k] * n_samples))\n",
    "\t\ttake = min(take, idx.size)\n",
    "\t\tsel = rng.choice(idx, size=take, replace=False)\n",
    "\t\tout_X.append(X[sel])\n",
    "\t\tout_y.append(np.full(sel.size, k))\n",
    "\treturn np.vstack(out_X), np.concatenate(out_y)\n",
    "\n",
    "\n",
    "def _plot(ax, X, labels, title):\n",
    "\tax.scatter(X[:, 0], X[:, 1], c=labels, s=10, cmap=\"tab10\")\n",
    "\tax.set_title(title)\n",
    "\tax.set_xticks([])\n",
    "\tax.set_yticks([])\n",
    "\n",
    "\n",
    "def main():\n",
    "\tX, y = _make_imbalanced()\n",
    "\n",
    "\tfig, axes = plt.subplots(2, 4, figsize=(12, 6), constrained_layout=True)\n",
    "\taxes = axes.ravel()\n",
    "\t_plot(axes[0], X, y, \"Ground truth\")\n",
    "\n",
    "\tkm = KMeans(n_clusters=3, n_init=10, random_state=0).fit(X)\n",
    "\t_plot(axes[1], X, km.labels_, \"KMeans\")\n",
    "\n",
    "\tmbk = MiniBatchKMeans(n_clusters=3, random_state=0, batch_size=256).fit(X)\n",
    "\t_plot(axes[2], X, mbk.labels_, \"MiniBatchKMeans\")\n",
    "\n",
    "\tekm = EKMeans(n_clusters=3, random_state=0, alpha=\"dvariance\").fit(X)\n",
    "\t_plot(axes[3], X, ekm.labels_, \"EKMeans\")\n",
    "\n",
    "\tmbekm = MiniBatchEKMeans(n_clusters=3, random_state=0, batch_size=256).fit(X)\n",
    "\t_plot(axes[4], X, mbekm.labels_, \"MiniBatchEKMeans\")\n",
    "\n",
    "\tdb = DBSCAN(eps=1.5, min_samples=10).fit(X)\n",
    "\t_plot(axes[5], X, db.labels_, \"DBSCAN\")\n",
    "\n",
    "\tsc = SpectralClustering(n_clusters=3, assign_labels=\"kmeans\", random_state=0).fit(X)\n",
    "\t_plot(axes[6], X, sc.labels_, \"Spectral\")\n",
    "\n",
    "\tac = AgglomerativeClustering(n_clusters=3).fit(X)\n",
    "\t_plot(axes[7], X, ac.labels_, \"Agglomerative\")\n",
    "\n",
    "\tplt.show()\n",
    "\n",
    "\n",
    "if __name__ == \"__main__\":\n",
    "\tmain()"
   ]
  }
 ],
 "metadata": {
  "kernelspec": {
   "display_name": "Python 3",
   "language": "python",
   "name": "python3"
  },
  "language_info": {
   "codemirror_mode": {
    "name": "ipython",
    "version": 3
   },
   "file_extension": ".py",
   "mimetype": "text/x-python",
   "name": "python",
   "nbconvert_exporter": "python",
   "pygments_lexer": "ipython3",
   "version": "3.13.7"
  }
 },
 "nbformat": 4,
 "nbformat_minor": 0
}