{
 "cells": [
  {
   "cell_type": "markdown",
   "metadata": {},
   "source": [
    "\n# Comparison of clustering algorithms on toy datasets\n\nThis example compares clustering results for multiple algorithms:\n`KMeans`, `DBSCAN`, `SpectralClustering` from scikit-learn and\n`EKMeans`/`MiniBatchEKMeans` from this package.\n\nThe intent is similar to the clustering comparison in scikit-learn's docs.\n"
   ]
  },
  {
   "cell_type": "code",
   "execution_count": null,
   "metadata": {
    "collapsed": false
   },
   "outputs": [],
   "source": [
    "import matplotlib.pyplot as plt\n",
    "import numpy as np\n",
    "from sklearn import datasets\n",
    "from sklearn.cluster import DBSCAN, SpectralClustering\n",
    "from sklearn.cluster import KMeans as SKKMeans\n",
    "from sklearn.preprocessing import StandardScaler\n",
    "\n",
    "from sklekmeans import EKMeans, MiniBatchEKMeans\n",
    "\n",
    "\n",
    "def make_datasets(random_state=170):\n",
    "    X1, y1 = datasets.make_blobs(n_samples=500, centers=3, cluster_std=1.0, random_state=random_state)\n",
    "\n",
    "    # Anisotropicly distributed data\n",
    "    X2, y2 = datasets.make_blobs(n_samples=500, centers=3, random_state=random_state)\n",
    "    transformation = np.array([[0.6, -0.6], [-0.4, 0.8]])\n",
    "    X2 = X2 @ transformation\n",
    "\n",
    "    # Different variance\n",
    "    X3, y3 = datasets.make_blobs(n_samples=500, centers=3, cluster_std=[1.0, 2.5, 0.5], random_state=random_state)\n",
    "\n",
    "    # Noisy circles\n",
    "    X4, y4 = datasets.make_circles(n_samples=500, factor=0.5, noise=0.05, random_state=random_state)\n",
    "\n",
    "    return [(X1, y1, \"blobs\"), (X2, y2, \"anisotropic\"), (X3, y3, \"varied\"), (X4, y4, \"circles\")]\n",
    "\n",
    "\n",
    "algorithms = [\n",
    "    (\"KMeans\", lambda: SKKMeans(n_clusters=3, n_init=10, random_state=0)),\n",
    "    (\"EKMeans\", lambda: EKMeans(n_clusters=3, random_state=0, alpha=\"dvariance\")),\n",
    "    (\"MiniBatchEKMeans\", lambda: MiniBatchEKMeans(n_clusters=3, random_state=0, batch_size=64, max_epochs=5)),\n",
    "    (\"DBSCAN\", lambda: DBSCAN(eps=0.3, min_samples=5)),\n",
    "    (\"Spectral\", lambda: SpectralClustering(n_clusters=3, assign_labels=\"discretize\", random_state=0)),\n",
    "]\n",
    "\n",
    "\n",
    "def plot_panel(ax, X, labels, title):\n",
    "    ax.scatter(X[:, 0], X[:, 1], c=labels, s=10, cmap=\"viridis\")\n",
    "    ax.set_xticks([])\n",
    "    ax.set_yticks([])\n",
    "    ax.set_title(title, fontsize=10)\n",
    "\n",
    "\n",
    "rng = np.random.RandomState(0)\n",
    "\n",
    "rows = len(make_datasets())\n",
    "cols = len(algorithms)\n",
    "fig, axes = plt.subplots(rows, cols, figsize=(3.0 * cols, 2.5 * rows), constrained_layout=True)\n",
    "\n",
    "for row_idx, (X, y, name) in enumerate(make_datasets()):\n",
    "    X_scaled = StandardScaler().fit_transform(X)\n",
    "    for col_idx, (label, make_algo) in enumerate(algorithms):\n",
    "        ax = axes[row_idx, col_idx]\n",
    "        try:\n",
    "            model = make_algo()\n",
    "            # Some algorithms don't expose labels_ until fit_predict\n",
    "            if hasattr(model, \"fit_predict\"):\n",
    "                labels_pred = model.fit_predict(X_scaled)\n",
    "            else:\n",
    "                model.fit(X_scaled)\n",
    "                labels_pred = getattr(model, \"labels_\", None)\n",
    "                if labels_pred is None:\n",
    "                    # Fall back to predict\n",
    "                    labels_pred = model.predict(X_scaled)\n",
    "        except Exception as e:\n",
    "            labels_pred = np.full(shape=X_scaled.shape[0], fill_value=-1)\n",
    "            label = f\"{label} (error)\"\n",
    "            print(f\"{label} failed on {name}: {e}\")\n",
    "\n",
    "        plot_panel(ax, X_scaled, labels_pred, f\"{label}\\n{name}\")\n",
    "\n",
    "plt.show()"
   ]
  }
 ],
 "metadata": {
  "kernelspec": {
   "display_name": "Python 3",
   "language": "python",
   "name": "python3"
  },
  "language_info": {
   "codemirror_mode": {
    "name": "ipython",
    "version": 3
   },
   "file_extension": ".py",
   "mimetype": "text/x-python",
   "name": "python",
   "nbconvert_exporter": "python",
   "pygments_lexer": "ipython3",
   "version": "3.13.7"
  }
 },
 "nbformat": 4,
 "nbformat_minor": 0
}