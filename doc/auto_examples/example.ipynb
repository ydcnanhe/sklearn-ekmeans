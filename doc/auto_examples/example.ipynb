{
  "cells": [
    {
      "cell_type": "markdown",
      "metadata": {},
      "source": [
        "Basic usage examples for EKMeans and MiniBatchEKMeans.\n\nRun with::\n\n        python examples/example.py\n"
      ]
    },
    {
      "cell_type": "code",
      "execution_count": null,
      "metadata": {
        "collapsed": false
      },
      "outputs": [],
      "source": [
        "import numpy as np\nfrom sklekmeans import EKMeans, MiniBatchEKMeans\n\n# Generate synthetic data\nX = np.random.rand(200, 2)\nC_init = np.array([[1, 0], [0, 1]], dtype=np.float64)\nmodel = EKMeans(n_clusters=2, metric=\"euclidean\", alpha=0.5, init=C_init)\nlabels = model.fit_predict(X)\nprint(\"First 20 labels:\", labels[:20])\nprint(\"First 5 membership rows:\\n\", model.U_[:5])\nprint(\"Cluster centers:\\n\", model.cluster_centers_)\nprint(\"Iterations:\", model.n_iter_)\nprint(\"Objective J:\", model.objective_)\n\nX_new = np.random.rand(5, 2)\nprint(\"Predicted clusters for new samples:\", model.predict(X_new))\nprint(\"Membership for new samples:\\n\", model.membership(X_new))\nprint(\"Distances for new samples:\\n\", model.transform(X_new))\n\nprint(\"\\n=== MiniBatchEKMeans demo ===\")\nX_large = np.random.rand(2000, 2)\nmb_model = MiniBatchEKMeans(\n\tn_clusters=2,\n\tmetric=\"euclidean\",\n\talpha=\"dvariance\",\n\tscale=2.0,\n\tbatch_size=256,\n\tmax_epochs=5,\n\tinit=\"k-means++\",\n\tshuffle=True,\n\tlearning_rate=None,  # accumulation method\n\ttol=1e-3,\n\treassign_patience=3,\n\tmonitor_size=512,\n\tprint_every=1,\n\tverbose=1,\n\tuse_numba=False,\n\trandom_state=0,\n)\nmb_model.fit(X_large)\nprint(\"Mini-batch centers:\\n\", mb_model.cluster_centers_)\nprint(\n\t\"Approx objective last epoch:\",\n\tmb_model.objective_approx_[-1] if mb_model.objective_approx_ else None,\n)"
      ]
    }
  ],
  "metadata": {
    "kernelspec": {
      "display_name": "Python 3",
      "language": "python",
      "name": "python3"
    },
    "language_info": {
      "codemirror_mode": {
        "name": "ipython",
        "version": 3
      },
      "file_extension": ".py",
      "mimetype": "text/x-python",
      "name": "python",
      "nbconvert_exporter": "python",
      "pygments_lexer": "ipython3",
      "version": "3.13.7"
    }
  },
  "nbformat": 4,
  "nbformat_minor": 0
}