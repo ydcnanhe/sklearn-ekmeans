{
  "cells": [
    {
      "cell_type": "markdown",
      "metadata": {},
      "source": [
        "\n# Imbalanced clustering comparison on a synthetic dataset (2x4 layout)\n\nThis example reproduces the imbalanced 3-cluster Gaussian mixture used in\n``benchmark/benchmark.py`` and compares the clustering results of multiple\nalgorithms in a 2x4 grid:\n\n- Ground truth\n- scikit-learn: KMeans, MiniBatchKMeans, DBSCAN, SpectralClustering, AgglomerativeClustering\n- sklekmeans: EKMeans, MiniBatchEKMeans\n\nEach panel shows the assigned labels and, when applicable, cluster centers.\nTitles include Adjusted Rand Index (ARI) and Silhouette scores (when available).\n"
      ]
    },
    {
      "cell_type": "code",
      "execution_count": null,
      "metadata": {
        "collapsed": false
      },
      "outputs": [],
      "source": [
        "import numpy as np\nimport matplotlib.pyplot as plt\nfrom sklearn.datasets import make_blobs\nfrom sklearn.cluster import (\n    KMeans as SKKMeans,\n    MiniBatchKMeans as SKMiniBatchKMeans,\n    DBSCAN,\n    SpectralClustering,\n    AgglomerativeClustering,\n)\nfrom sklearn.metrics import adjusted_rand_score, silhouette_score\n\nfrom sklekmeans import EKMeans, MiniBatchEKMeans\n\n# Same dataset configuration as benchmark/benchmark.py\nN_SAMPLES = [2000, 50, 30]  # Strong imbalance\nCENTERS = [(-5, -2), (0, 0), (5, 5)]\nSTD = [1.0, 1.0, 1.0]\nN_CLUSTERS = 3\nRANDOM_STATE = 0\n\nX, y_true = make_blobs(\n    n_samples=N_SAMPLES,\n    centers=CENTERS,\n    cluster_std=STD,\n    random_state=RANDOM_STATE,\n)\n\nalgorithms = [\n    (\"KMeans\", lambda: SKKMeans(n_clusters=N_CLUSTERS, n_init=10, random_state=RANDOM_STATE)),\n    (\n        \"MiniBatchKMeans\",\n        lambda: SKMiniBatchKMeans(n_clusters=N_CLUSTERS, n_init=10, random_state=RANDOM_STATE),\n    ),\n    (\"EKMeans\", lambda: EKMeans(n_clusters=N_CLUSTERS, n_init=10, random_state=RANDOM_STATE, alpha=\"dvariance\")),\n    (\n        \"MiniBatchEKMeans\",\n        lambda: MiniBatchEKMeans(n_clusters=N_CLUSTERS, n_init=10, random_state=RANDOM_STATE, batch_size=256, max_epochs=10),\n    ),\n    (\"DBSCAN\", lambda: DBSCAN(eps=0.7, min_samples=5)),\n    (\n        \"Spectral\",\n        lambda: SpectralClustering(\n            n_clusters=N_CLUSTERS,\n            assign_labels=\"kmeans\",\n            random_state=RANDOM_STATE,\n            affinity=\"nearest_neighbors\",\n            n_neighbors=10,\n        ),\n    ),\n    (\"Agglomerative\", lambda: AgglomerativeClustering(n_clusters=N_CLUSTERS, linkage=\"ward\")),\n]\n\n\ndef safe_silhouette(X, labels):\n    # Silhouette requires at least 2 clusters and less than n_samples unique labels\n    vals = np.unique(labels)\n    if len(vals) < 2 or (len(vals) == 1 and vals[0] == -1):\n        return None\n    try:\n        return float(silhouette_score(X, labels))\n    except Exception:\n        return None\n\n\nrows, cols = 2, 4\nfig, axes = plt.subplots(rows, cols, figsize=(3.2 * cols, 2.7 * rows), constrained_layout=True)\naxes = axes.ravel()\n\n# Panel 0: Ground truth\naxes[0].scatter(X[:, 0], X[:, 1], c=y_true, s=10, cmap=\"tab10\", alpha=0.8)\naxes[0].set_title(\"Ground truth\")\naxes[0].set_xticks([])\naxes[0].set_yticks([])\n\n# Remaining panels: algorithms\nfor idx, (name, make_algo) in enumerate(algorithms, start=1):\n    ax = axes[idx]\n    try:\n        model = make_algo()\n        if hasattr(model, \"fit_predict\"):\n            labels_pred = model.fit_predict(X)\n        else:\n            model.fit(X)\n            labels_pred = getattr(model, \"labels_\", None)\n            if labels_pred is None and hasattr(model, \"predict\"):\n                labels_pred = model.predict(X)\n        ari = adjusted_rand_score(y_true, labels_pred)\n        sil = safe_silhouette(X, labels_pred)\n        title_metrics = f\"ARI={ari:.3f}\"\n        if sil is not None:\n            title_metrics += f\", Sil={sil:.3f}\"\n        title = f\"{name} ({title_metrics})\"\n    except Exception as e:\n        labels_pred = np.full(X.shape[0], -1)\n        title = f\"{name} (error)\"\n        print(f\"{name} failed: {e}\")\n\n    ax.scatter(X[:, 0], X[:, 1], c=labels_pred, s=10, cmap=\"tab10\", alpha=0.8)\n\n    # Plot centers for algorithms that expose them\n    centers = None\n    if hasattr(model, \"cluster_centers_\"):\n        centers = getattr(model, \"cluster_centers_\")\n    if centers is not None:\n        ax.scatter(\n            centers[:, 0],\n            centers[:, 1],\n            c=\"black\",\n            s=120,\n            marker=\"X\",\n            edgecolor=\"white\",\n            linewidths=1,\n        )\n\n    ax.set_title(title)\n    ax.set_xticks([])\n    ax.set_yticks([])\n\n# If fewer than 8 panels were used (shouldn't happen), hide extras\nfor j in range(1 + len(algorithms), rows * cols):\n    axes[j].axis(\"off\")\n\nplt.show()"
      ]
    }
  ],
  "metadata": {
    "kernelspec": {
      "display_name": "Python 3",
      "language": "python",
      "name": "python3"
    },
    "language_info": {
      "codemirror_mode": {
        "name": "ipython",
        "version": 3
      },
      "file_extension": ".py",
      "mimetype": "text/x-python",
      "name": "python",
      "nbconvert_exporter": "python",
      "pygments_lexer": "ipython3",
      "version": "3.13.7"
    }
  },
  "nbformat": 4,
  "nbformat_minor": 0
}