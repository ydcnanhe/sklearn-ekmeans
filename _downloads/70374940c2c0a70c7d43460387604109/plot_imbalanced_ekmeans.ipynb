{
  "cells": [
    {
      "cell_type": "markdown",
      "metadata": {},
      "source": [
        "\n# Imbalanced clustering comparison with EKMeans\n\nThis example compares clustering performance on an imbalanced dataset\nfor several algorithms, including EKMeans and MiniBatchEKMeans.\n\nIt is intended for the gallery and requires matplotlib to render plots.\n"
      ]
    },
    {
      "cell_type": "code",
      "execution_count": null,
      "metadata": {
        "collapsed": false
      },
      "outputs": [],
      "source": [
        "import matplotlib.pyplot as plt\nimport numpy as np\nfrom sklearn.cluster import (\n    DBSCAN,\n    AgglomerativeClustering,\n    KMeans,\n    MiniBatchKMeans,\n    SpectralClustering,\n)\nfrom sklearn.datasets import make_blobs\n\nfrom sklekmeans import EKMeans, MiniBatchEKMeans\n\n\ndef _make_imbalanced(\n    n_samples=800,\n    weights=(0.85, 0.10, 0.05),\n    centers=3,\n    cluster_std=(1.0, 1.0, 1.0),\n    random_state=0,\n):\n    X, y = make_blobs(\n        n_samples=n_samples,\n        centers=centers,\n        cluster_std=cluster_std,\n        random_state=random_state,\n    )\n    # Reweight labels to match desired imbalance by subsampling\n    rng = np.random.RandomState(random_state)\n    out_X, out_y = [], []\n    for k in range(centers):\n        idx = np.flatnonzero(y == k)\n        take = int(round(weights[k] * n_samples))\n        take = min(take, idx.size)\n        sel = rng.choice(idx, size=take, replace=False)\n        out_X.append(X[sel])\n        out_y.append(np.full(sel.size, k))\n    return np.vstack(out_X), np.concatenate(out_y)\n\n\ndef _plot(ax, X, labels, title):\n    ax.scatter(X[:, 0], X[:, 1], c=labels, s=10, cmap=\"tab10\")\n    ax.set_title(title)\n    ax.set_xticks([])\n    ax.set_yticks([])\n\n\ndef main():\n    X, y = _make_imbalanced()\n\n    fig, axes = plt.subplots(2, 4, figsize=(12, 6), constrained_layout=True)\n    axes = axes.ravel()\n    _plot(axes[0], X, y, \"Ground truth\")\n\n    km = KMeans(n_clusters=3, n_init=10, random_state=0).fit(X)\n    _plot(axes[1], X, km.labels_, \"KMeans\")\n\n    mbk = MiniBatchKMeans(n_clusters=3, random_state=0, batch_size=256).fit(X)\n    _plot(axes[2], X, mbk.labels_, \"MiniBatchKMeans\")\n\n    ekm = EKMeans(n_clusters=3, random_state=0, alpha=\"dvariance\").fit(X)\n    _plot(axes[3], X, ekm.labels_, \"EKMeans\")\n\n    mbekm = MiniBatchEKMeans(n_clusters=3, random_state=0, batch_size=256).fit(X)\n    _plot(axes[4], X, mbekm.labels_, \"MiniBatchEKMeans\")\n\n    db = DBSCAN(eps=1.5, min_samples=10).fit(X)\n    _plot(axes[5], X, db.labels_, \"DBSCAN\")\n\n    sc = SpectralClustering(n_clusters=3, assign_labels=\"kmeans\", random_state=0).fit(X)\n    _plot(axes[6], X, sc.labels_, \"Spectral\")\n\n    ac = AgglomerativeClustering(n_clusters=3).fit(X)\n    _plot(axes[7], X, ac.labels_, \"Agglomerative\")\n\n    plt.show()\n\n\nif __name__ == \"__main__\":\n    main()"
      ]
    }
  ],
  "metadata": {
    "kernelspec": {
      "display_name": "Python 3",
      "language": "python",
      "name": "python3"
    },
    "language_info": {
      "codemirror_mode": {
        "name": "ipython",
        "version": 3
      },
      "file_extension": ".py",
      "mimetype": "text/x-python",
      "name": "python",
      "nbconvert_exporter": "python",
      "pygments_lexer": "ipython3",
      "version": "3.12.11"
    }
  },
  "nbformat": 4,
  "nbformat_minor": 0
}